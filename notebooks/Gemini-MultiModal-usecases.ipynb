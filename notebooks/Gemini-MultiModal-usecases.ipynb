{
 "cells": [
  {
   "cell_type": "markdown",
   "metadata": {},
   "source": [
    "### Gemini-MultiModal-usecases.ipynb File"
   ]
  },
  {
   "cell_type": "code",
   "execution_count": null,
   "metadata": {},
   "outputs": [],
   "source": [
    "'''\n",
    "Pre-requisites:\n",
    "    GCP account need to be created.\n",
    "    GCP project need to be linked with GCP billing/service account.\n",
    "    GCP project need to be linked with GCP service account key file.(json file)\n",
    "    Download json file and set env variable GOOGLE_APPLICATION_CREDENTIALS to the path of the downloaded file.\n",
    "    eg: export GOOGLE_APPLICATION_CREDENTIALS=\"/home/user/gcp_project/data/json/service-account-file.json\"\n",
    "    For different models,  ref. to model garden in Vertex AI in gcp console.\n",
    "'''"
   ]
  },
  {
   "cell_type": "code",
   "execution_count": null,
   "metadata": {},
   "outputs": [],
   "source": [
    "%pip install google-cloud-aiplatform gitpython magika"
   ]
  },
  {
   "cell_type": "code",
   "execution_count": null,
   "metadata": {},
   "outputs": [],
   "source": [
    "\n",
    "# Initialize Vertex AI\n",
    "import vertexai\n",
    "from vertexai.generative_models import GenerativeModel\n",
    "vertexai.init(project=\"river-span-431711-k8\", location=\"us-central1\")# Load the Gemini 1.5 Pro model. (https://cloud.google.com/vertex-ai/docs/reference/python/latest/vertexai.generative_models)\n",
    "\n",
    "# Load the Gemini 1.5 Pro model. (https://cloud.google.com/vertex-ai/generative-ai/docs/reference/python/latest/vertexai.generative_models)\n",
    "multimodal_model = GenerativeModel(\"gemini-1.5-pro-001\")\n",
    "multimodal_model_flash = GenerativeModel(\"gemini-1.5-flash-001\") # using this var later\n",
    "\n",
    "# Generate response\n",
    "contents = [ \"Explain LLM\" ]\n",
    "response = multimodal_model.generate_content(contents)\n",
    "print(response)\n",
    "print(response.text)\n"
   ]
  },
  {
   "cell_type": "code",
   "execution_count": null,
   "metadata": {},
   "outputs": [],
   "source": [
    "import IPython.display\n",
    "display(IPython.display.Markdown(response.text))"
   ]
  }
 ],
 "metadata": {
  "kernelspec": {
   "display_name": "gcpenv",
   "language": "python",
   "name": "python3"
  },
  "language_info": {
   "codemirror_mode": {
    "name": "ipython",
    "version": 3
   },
   "file_extension": ".py",
   "mimetype": "text/x-python",
   "name": "python",
   "nbconvert_exporter": "python",
   "pygments_lexer": "ipython3",
   "version": "3.12.4"
  }
 },
 "nbformat": 4,
 "nbformat_minor": 2
}
